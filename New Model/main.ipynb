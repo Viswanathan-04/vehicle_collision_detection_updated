{
 "cells": [
  {
   "cell_type": "code",
   "execution_count": 1,
   "id": "c6684224",
   "metadata": {},
   "outputs": [],
   "source": [
    "# print \"Hello {Your_name}\"\n",
    "\n"
   ]
  },
  {
   "cell_type": "code",
   "execution_count": 2,
   "id": "27a3de5c",
   "metadata": {},
   "outputs": [],
   "source": [
    "# print(type(10.5)) Output ? \n",
    "\n"
   ]
  },
  {
   "cell_type": "code",
   "execution_count": 3,
   "id": "29c9773b",
   "metadata": {},
   "outputs": [],
   "source": [
    "# Write a Python program to find the largest of two numbers using if-else\n",
    "\n"
   ]
  },
  {
   "cell_type": "code",
   "execution_count": 4,
   "id": "ddb4738f",
   "metadata": {},
   "outputs": [],
   "source": [
    "# num = 0\n",
    "# if num > 0:\n",
    "#     print(\"Positive\")\n",
    "# else:\n",
    "#     print(\"Not positive\")\n",
    "\n",
    "# Output ?\n",
    "\n"
   ]
  },
  {
   "cell_type": "code",
   "execution_count": 5,
   "id": "389ff78c",
   "metadata": {},
   "outputs": [],
   "source": [
    "# 4 and 6 Output ?\n",
    "\n"
   ]
  },
  {
   "cell_type": "code",
   "execution_count": 6,
   "id": "0d850f0e",
   "metadata": {},
   "outputs": [],
   "source": [
    "# Write a Python program to check if a number is even or odd.\n",
    "\n"
   ]
  },
  {
   "cell_type": "code",
   "execution_count": 7,
   "id": "5a463a4a",
   "metadata": {},
   "outputs": [],
   "source": [
    "# Write a program to find the grade based on a mark\n",
    "\n",
    "# 90-100: A\n",
    "# 80-89: B\n",
    "# 70-79: C\n",
    "# 60-69: D\n",
    "# <60: F\n",
    "\n"
   ]
  },
  {
   "cell_type": "code",
   "execution_count": 8,
   "id": "b262f771",
   "metadata": {},
   "outputs": [],
   "source": [
    "# 5 or 8 Output ?\n",
    "\n"
   ]
  },
  {
   "cell_type": "code",
   "execution_count": 9,
   "id": "c7589935",
   "metadata": {},
   "outputs": [],
   "source": [
    "# a = 10\n",
    "# b = 12\n",
    "# a or b Output ?\n",
    "\n"
   ]
  },
  {
   "cell_type": "code",
   "execution_count": 10,
   "id": "434ab5da",
   "metadata": {},
   "outputs": [],
   "source": [
    "# Print numbers from 1 to 10 using a for loop\n",
    "\n"
   ]
  }
 ],
 "metadata": {
  "kernelspec": {
   "display_name": "Python 3",
   "language": "python",
   "name": "python3"
  },
  "language_info": {
   "codemirror_mode": {
    "name": "ipython",
    "version": 3
   },
   "file_extension": ".py",
   "mimetype": "text/x-python",
   "name": "python",
   "nbconvert_exporter": "python",
   "pygments_lexer": "ipython3",
   "version": "3.10.6"
  }
 },
 "nbformat": 4,
 "nbformat_minor": 5
}
